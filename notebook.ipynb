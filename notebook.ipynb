{
 "cells": [
  {
   "cell_type": "markdown",
   "metadata": {},
   "source": [
    "# Preprocessing"
   ]
  },
  {
   "cell_type": "code",
   "execution_count": 103,
   "metadata": {},
   "outputs": [
    {
     "name": "stderr",
     "output_type": "stream",
     "text": [
      "/home/aditya/GenAI/GenAI/lib/python3.12/site-packages/tqdm/auto.py:21: TqdmWarning: IProgress not found. Please update jupyter and ipywidgets. See https://ipywidgets.readthedocs.io/en/stable/user_install.html\n",
      "  from .autonotebook import tqdm as notebook_tqdm\n"
     ]
    }
   ],
   "source": [
    "import pandas as pd\n",
    "import numpy as np\n",
    "import pickle\n",
    "import optuna"
   ]
  },
  {
   "cell_type": "code",
   "execution_count": 2,
   "metadata": {},
   "outputs": [],
   "source": [
    "df = pd.read_csv(\"Churn_Modelling.csv\",sep=\",\",header=0)"
   ]
  },
  {
   "cell_type": "code",
   "execution_count": 3,
   "metadata": {},
   "outputs": [],
   "source": [
    "cleaned_df = df.drop([\"CustomerId\",\"RowNumber\",\"Surname\"],axis=1)"
   ]
  },
  {
   "cell_type": "code",
   "execution_count": 4,
   "metadata": {},
   "outputs": [
    {
     "data": {
      "text/html": [
       "<div>\n",
       "<style scoped>\n",
       "    .dataframe tbody tr th:only-of-type {\n",
       "        vertical-align: middle;\n",
       "    }\n",
       "\n",
       "    .dataframe tbody tr th {\n",
       "        vertical-align: top;\n",
       "    }\n",
       "\n",
       "    .dataframe thead th {\n",
       "        text-align: right;\n",
       "    }\n",
       "</style>\n",
       "<table border=\"1\" class=\"dataframe\">\n",
       "  <thead>\n",
       "    <tr style=\"text-align: right;\">\n",
       "      <th></th>\n",
       "      <th>CreditScore</th>\n",
       "      <th>Geography</th>\n",
       "      <th>Gender</th>\n",
       "      <th>Age</th>\n",
       "      <th>Tenure</th>\n",
       "      <th>Balance</th>\n",
       "      <th>NumOfProducts</th>\n",
       "      <th>HasCrCard</th>\n",
       "      <th>IsActiveMember</th>\n",
       "      <th>EstimatedSalary</th>\n",
       "      <th>Exited</th>\n",
       "    </tr>\n",
       "  </thead>\n",
       "  <tbody>\n",
       "    <tr>\n",
       "      <th>0</th>\n",
       "      <td>619</td>\n",
       "      <td>France</td>\n",
       "      <td>Female</td>\n",
       "      <td>42</td>\n",
       "      <td>2</td>\n",
       "      <td>0.00</td>\n",
       "      <td>1</td>\n",
       "      <td>1</td>\n",
       "      <td>1</td>\n",
       "      <td>101348.88</td>\n",
       "      <td>1</td>\n",
       "    </tr>\n",
       "    <tr>\n",
       "      <th>1</th>\n",
       "      <td>608</td>\n",
       "      <td>Spain</td>\n",
       "      <td>Female</td>\n",
       "      <td>41</td>\n",
       "      <td>1</td>\n",
       "      <td>83807.86</td>\n",
       "      <td>1</td>\n",
       "      <td>0</td>\n",
       "      <td>1</td>\n",
       "      <td>112542.58</td>\n",
       "      <td>0</td>\n",
       "    </tr>\n",
       "    <tr>\n",
       "      <th>2</th>\n",
       "      <td>502</td>\n",
       "      <td>France</td>\n",
       "      <td>Female</td>\n",
       "      <td>42</td>\n",
       "      <td>8</td>\n",
       "      <td>159660.80</td>\n",
       "      <td>3</td>\n",
       "      <td>1</td>\n",
       "      <td>0</td>\n",
       "      <td>113931.57</td>\n",
       "      <td>1</td>\n",
       "    </tr>\n",
       "    <tr>\n",
       "      <th>3</th>\n",
       "      <td>699</td>\n",
       "      <td>France</td>\n",
       "      <td>Female</td>\n",
       "      <td>39</td>\n",
       "      <td>1</td>\n",
       "      <td>0.00</td>\n",
       "      <td>2</td>\n",
       "      <td>0</td>\n",
       "      <td>0</td>\n",
       "      <td>93826.63</td>\n",
       "      <td>0</td>\n",
       "    </tr>\n",
       "    <tr>\n",
       "      <th>4</th>\n",
       "      <td>850</td>\n",
       "      <td>Spain</td>\n",
       "      <td>Female</td>\n",
       "      <td>43</td>\n",
       "      <td>2</td>\n",
       "      <td>125510.82</td>\n",
       "      <td>1</td>\n",
       "      <td>1</td>\n",
       "      <td>1</td>\n",
       "      <td>79084.10</td>\n",
       "      <td>0</td>\n",
       "    </tr>\n",
       "  </tbody>\n",
       "</table>\n",
       "</div>"
      ],
      "text/plain": [
       "   CreditScore Geography  Gender  Age  Tenure    Balance  NumOfProducts  \\\n",
       "0          619    France  Female   42       2       0.00              1   \n",
       "1          608     Spain  Female   41       1   83807.86              1   \n",
       "2          502    France  Female   42       8  159660.80              3   \n",
       "3          699    France  Female   39       1       0.00              2   \n",
       "4          850     Spain  Female   43       2  125510.82              1   \n",
       "\n",
       "   HasCrCard  IsActiveMember  EstimatedSalary  Exited  \n",
       "0          1               1        101348.88       1  \n",
       "1          0               1        112542.58       0  \n",
       "2          1               0        113931.57       1  \n",
       "3          0               0         93826.63       0  \n",
       "4          1               1         79084.10       0  "
      ]
     },
     "execution_count": 4,
     "metadata": {},
     "output_type": "execute_result"
    }
   ],
   "source": [
    "cleaned_df.head()"
   ]
  },
  {
   "cell_type": "code",
   "execution_count": 5,
   "metadata": {},
   "outputs": [
    {
     "data": {
      "text/plain": [
       "0        France\n",
       "1         Spain\n",
       "2        France\n",
       "3        France\n",
       "4         Spain\n",
       "         ...   \n",
       "9995     France\n",
       "9996     France\n",
       "9997     France\n",
       "9998    Germany\n",
       "9999     France\n",
       "Name: Geography, Length: 10000, dtype: object"
      ]
     },
     "execution_count": 5,
     "metadata": {},
     "output_type": "execute_result"
    }
   ],
   "source": [
    "cleaned_df[\"Geography\"]"
   ]
  },
  {
   "cell_type": "code",
   "execution_count": 6,
   "metadata": {},
   "outputs": [],
   "source": [
    "from sklearn.preprocessing import LabelEncoder\n",
    "le = LabelEncoder()\n",
    "\n",
    "cleaned_df[\"Gender\"] = le.fit_transform(cleaned_df['Gender'])"
   ]
  },
  {
   "cell_type": "code",
   "execution_count": 7,
   "metadata": {},
   "outputs": [
    {
     "data": {
      "text/html": [
       "<div>\n",
       "<style scoped>\n",
       "    .dataframe tbody tr th:only-of-type {\n",
       "        vertical-align: middle;\n",
       "    }\n",
       "\n",
       "    .dataframe tbody tr th {\n",
       "        vertical-align: top;\n",
       "    }\n",
       "\n",
       "    .dataframe thead th {\n",
       "        text-align: right;\n",
       "    }\n",
       "</style>\n",
       "<table border=\"1\" class=\"dataframe\">\n",
       "  <thead>\n",
       "    <tr style=\"text-align: right;\">\n",
       "      <th></th>\n",
       "      <th>CreditScore</th>\n",
       "      <th>Geography</th>\n",
       "      <th>Gender</th>\n",
       "      <th>Age</th>\n",
       "      <th>Tenure</th>\n",
       "      <th>Balance</th>\n",
       "      <th>NumOfProducts</th>\n",
       "      <th>HasCrCard</th>\n",
       "      <th>IsActiveMember</th>\n",
       "      <th>EstimatedSalary</th>\n",
       "      <th>Exited</th>\n",
       "    </tr>\n",
       "  </thead>\n",
       "  <tbody>\n",
       "    <tr>\n",
       "      <th>0</th>\n",
       "      <td>619</td>\n",
       "      <td>France</td>\n",
       "      <td>0</td>\n",
       "      <td>42</td>\n",
       "      <td>2</td>\n",
       "      <td>0.00</td>\n",
       "      <td>1</td>\n",
       "      <td>1</td>\n",
       "      <td>1</td>\n",
       "      <td>101348.88</td>\n",
       "      <td>1</td>\n",
       "    </tr>\n",
       "    <tr>\n",
       "      <th>1</th>\n",
       "      <td>608</td>\n",
       "      <td>Spain</td>\n",
       "      <td>0</td>\n",
       "      <td>41</td>\n",
       "      <td>1</td>\n",
       "      <td>83807.86</td>\n",
       "      <td>1</td>\n",
       "      <td>0</td>\n",
       "      <td>1</td>\n",
       "      <td>112542.58</td>\n",
       "      <td>0</td>\n",
       "    </tr>\n",
       "    <tr>\n",
       "      <th>2</th>\n",
       "      <td>502</td>\n",
       "      <td>France</td>\n",
       "      <td>0</td>\n",
       "      <td>42</td>\n",
       "      <td>8</td>\n",
       "      <td>159660.80</td>\n",
       "      <td>3</td>\n",
       "      <td>1</td>\n",
       "      <td>0</td>\n",
       "      <td>113931.57</td>\n",
       "      <td>1</td>\n",
       "    </tr>\n",
       "    <tr>\n",
       "      <th>3</th>\n",
       "      <td>699</td>\n",
       "      <td>France</td>\n",
       "      <td>0</td>\n",
       "      <td>39</td>\n",
       "      <td>1</td>\n",
       "      <td>0.00</td>\n",
       "      <td>2</td>\n",
       "      <td>0</td>\n",
       "      <td>0</td>\n",
       "      <td>93826.63</td>\n",
       "      <td>0</td>\n",
       "    </tr>\n",
       "    <tr>\n",
       "      <th>4</th>\n",
       "      <td>850</td>\n",
       "      <td>Spain</td>\n",
       "      <td>0</td>\n",
       "      <td>43</td>\n",
       "      <td>2</td>\n",
       "      <td>125510.82</td>\n",
       "      <td>1</td>\n",
       "      <td>1</td>\n",
       "      <td>1</td>\n",
       "      <td>79084.10</td>\n",
       "      <td>0</td>\n",
       "    </tr>\n",
       "  </tbody>\n",
       "</table>\n",
       "</div>"
      ],
      "text/plain": [
       "   CreditScore Geography  Gender  Age  Tenure    Balance  NumOfProducts  \\\n",
       "0          619    France       0   42       2       0.00              1   \n",
       "1          608     Spain       0   41       1   83807.86              1   \n",
       "2          502    France       0   42       8  159660.80              3   \n",
       "3          699    France       0   39       1       0.00              2   \n",
       "4          850     Spain       0   43       2  125510.82              1   \n",
       "\n",
       "   HasCrCard  IsActiveMember  EstimatedSalary  Exited  \n",
       "0          1               1        101348.88       1  \n",
       "1          0               1        112542.58       0  \n",
       "2          1               0        113931.57       1  \n",
       "3          0               0         93826.63       0  \n",
       "4          1               1         79084.10       0  "
      ]
     },
     "execution_count": 7,
     "metadata": {},
     "output_type": "execute_result"
    }
   ],
   "source": [
    "cleaned_df.head()"
   ]
  },
  {
   "cell_type": "code",
   "execution_count": 8,
   "metadata": {},
   "outputs": [],
   "source": [
    "with open(\"label_encoding_gender.pkl\",\"wb\") as file:\n",
    "    pickle.dump(le,file)"
   ]
  },
  {
   "cell_type": "code",
   "execution_count": 9,
   "metadata": {},
   "outputs": [],
   "source": [
    "from sklearn.preprocessing import OneHotEncoder\n",
    "\n",
    "ohe = OneHotEncoder()\n",
    "geo_data = ohe.fit_transform(cleaned_df[[\"Geography\"]])"
   ]
  },
  {
   "cell_type": "code",
   "execution_count": 10,
   "metadata": {},
   "outputs": [],
   "source": [
    "with open(\"one_hot_encoding_geography.pkl\",\"wb\") as file:\n",
    "    pickle.dump(ohe,file)"
   ]
  },
  {
   "cell_type": "code",
   "execution_count": 11,
   "metadata": {},
   "outputs": [
    {
     "data": {
      "text/plain": [
       "<5x3 sparse matrix of type '<class 'numpy.float64'>'\n",
       "\twith 5 stored elements in Compressed Sparse Row format>"
      ]
     },
     "execution_count": 11,
     "metadata": {},
     "output_type": "execute_result"
    }
   ],
   "source": [
    "geo_data[0:5]"
   ]
  },
  {
   "cell_type": "code",
   "execution_count": null,
   "metadata": {},
   "outputs": [],
   "source": []
  },
  {
   "cell_type": "code",
   "execution_count": 12,
   "metadata": {},
   "outputs": [],
   "source": [
    "geo_columns = ohe.get_feature_names_out([\"Geography\"])"
   ]
  },
  {
   "cell_type": "code",
   "execution_count": 13,
   "metadata": {},
   "outputs": [],
   "source": [
    "geography_df = pd.DataFrame(geo_data.toarray(), columns=geo_columns)"
   ]
  },
  {
   "cell_type": "code",
   "execution_count": 14,
   "metadata": {},
   "outputs": [],
   "source": [
    "final_df = pd.concat([geography_df,cleaned_df.drop([\"Geography\"],axis=1)],axis=1)"
   ]
  },
  {
   "cell_type": "code",
   "execution_count": 15,
   "metadata": {},
   "outputs": [],
   "source": [
    "x = final_df.drop([\"Exited\"],axis=1)\n",
    "y = final_df[\"Exited\"]"
   ]
  },
  {
   "cell_type": "code",
   "execution_count": 16,
   "metadata": {},
   "outputs": [
    {
     "data": {
      "text/html": [
       "<div>\n",
       "<style scoped>\n",
       "    .dataframe tbody tr th:only-of-type {\n",
       "        vertical-align: middle;\n",
       "    }\n",
       "\n",
       "    .dataframe tbody tr th {\n",
       "        vertical-align: top;\n",
       "    }\n",
       "\n",
       "    .dataframe thead th {\n",
       "        text-align: right;\n",
       "    }\n",
       "</style>\n",
       "<table border=\"1\" class=\"dataframe\">\n",
       "  <thead>\n",
       "    <tr style=\"text-align: right;\">\n",
       "      <th></th>\n",
       "      <th>Geography_France</th>\n",
       "      <th>Geography_Germany</th>\n",
       "      <th>Geography_Spain</th>\n",
       "      <th>CreditScore</th>\n",
       "      <th>Gender</th>\n",
       "      <th>Age</th>\n",
       "      <th>Tenure</th>\n",
       "      <th>Balance</th>\n",
       "      <th>NumOfProducts</th>\n",
       "      <th>HasCrCard</th>\n",
       "      <th>IsActiveMember</th>\n",
       "      <th>EstimatedSalary</th>\n",
       "    </tr>\n",
       "  </thead>\n",
       "  <tbody>\n",
       "    <tr>\n",
       "      <th>0</th>\n",
       "      <td>1.0</td>\n",
       "      <td>0.0</td>\n",
       "      <td>0.0</td>\n",
       "      <td>619</td>\n",
       "      <td>0</td>\n",
       "      <td>42</td>\n",
       "      <td>2</td>\n",
       "      <td>0.00</td>\n",
       "      <td>1</td>\n",
       "      <td>1</td>\n",
       "      <td>1</td>\n",
       "      <td>101348.88</td>\n",
       "    </tr>\n",
       "    <tr>\n",
       "      <th>1</th>\n",
       "      <td>0.0</td>\n",
       "      <td>0.0</td>\n",
       "      <td>1.0</td>\n",
       "      <td>608</td>\n",
       "      <td>0</td>\n",
       "      <td>41</td>\n",
       "      <td>1</td>\n",
       "      <td>83807.86</td>\n",
       "      <td>1</td>\n",
       "      <td>0</td>\n",
       "      <td>1</td>\n",
       "      <td>112542.58</td>\n",
       "    </tr>\n",
       "    <tr>\n",
       "      <th>2</th>\n",
       "      <td>1.0</td>\n",
       "      <td>0.0</td>\n",
       "      <td>0.0</td>\n",
       "      <td>502</td>\n",
       "      <td>0</td>\n",
       "      <td>42</td>\n",
       "      <td>8</td>\n",
       "      <td>159660.80</td>\n",
       "      <td>3</td>\n",
       "      <td>1</td>\n",
       "      <td>0</td>\n",
       "      <td>113931.57</td>\n",
       "    </tr>\n",
       "    <tr>\n",
       "      <th>3</th>\n",
       "      <td>1.0</td>\n",
       "      <td>0.0</td>\n",
       "      <td>0.0</td>\n",
       "      <td>699</td>\n",
       "      <td>0</td>\n",
       "      <td>39</td>\n",
       "      <td>1</td>\n",
       "      <td>0.00</td>\n",
       "      <td>2</td>\n",
       "      <td>0</td>\n",
       "      <td>0</td>\n",
       "      <td>93826.63</td>\n",
       "    </tr>\n",
       "    <tr>\n",
       "      <th>4</th>\n",
       "      <td>0.0</td>\n",
       "      <td>0.0</td>\n",
       "      <td>1.0</td>\n",
       "      <td>850</td>\n",
       "      <td>0</td>\n",
       "      <td>43</td>\n",
       "      <td>2</td>\n",
       "      <td>125510.82</td>\n",
       "      <td>1</td>\n",
       "      <td>1</td>\n",
       "      <td>1</td>\n",
       "      <td>79084.10</td>\n",
       "    </tr>\n",
       "  </tbody>\n",
       "</table>\n",
       "</div>"
      ],
      "text/plain": [
       "   Geography_France  Geography_Germany  Geography_Spain  CreditScore  Gender  \\\n",
       "0               1.0                0.0              0.0          619       0   \n",
       "1               0.0                0.0              1.0          608       0   \n",
       "2               1.0                0.0              0.0          502       0   \n",
       "3               1.0                0.0              0.0          699       0   \n",
       "4               0.0                0.0              1.0          850       0   \n",
       "\n",
       "   Age  Tenure    Balance  NumOfProducts  HasCrCard  IsActiveMember  \\\n",
       "0   42       2       0.00              1          1               1   \n",
       "1   41       1   83807.86              1          0               1   \n",
       "2   42       8  159660.80              3          1               0   \n",
       "3   39       1       0.00              2          0               0   \n",
       "4   43       2  125510.82              1          1               1   \n",
       "\n",
       "   EstimatedSalary  \n",
       "0        101348.88  \n",
       "1        112542.58  \n",
       "2        113931.57  \n",
       "3         93826.63  \n",
       "4         79084.10  "
      ]
     },
     "execution_count": 16,
     "metadata": {},
     "output_type": "execute_result"
    }
   ],
   "source": [
    "x.head()"
   ]
  },
  {
   "cell_type": "code",
   "execution_count": 17,
   "metadata": {},
   "outputs": [
    {
     "data": {
      "text/plain": [
       "0    1\n",
       "1    0\n",
       "2    1\n",
       "3    0\n",
       "4    0\n",
       "Name: Exited, dtype: int64"
      ]
     },
     "execution_count": 17,
     "metadata": {},
     "output_type": "execute_result"
    }
   ],
   "source": [
    "y.head()"
   ]
  },
  {
   "cell_type": "code",
   "execution_count": 18,
   "metadata": {},
   "outputs": [],
   "source": [
    "from sklearn.model_selection import train_test_split\n",
    "x_train,x_test,y_train,y_test = train_test_split(x,y,test_size=0.8,random_state=10)"
   ]
  },
  {
   "cell_type": "code",
   "execution_count": 54,
   "metadata": {},
   "outputs": [],
   "source": [
    "from sklearn.preprocessing import StandardScaler\n",
    "\n",
    "ss = StandardScaler()\n",
    "\n",
    "x_train = ss.fit_transform(x_train)\n",
    "x_test = ss.transform(x_test)"
   ]
  },
  {
   "cell_type": "code",
   "execution_count": 20,
   "metadata": {},
   "outputs": [
    {
     "name": "stdout",
     "output_type": "stream",
     "text": [
      "[[ 0.99104014 -0.56734211 -0.58042949  1.63085958 -1.10442556 -1.38800171\n",
      "  -0.35992997 -1.21559357  0.82307335  0.65309534 -0.99401789  1.62010109]\n",
      " [-1.00904087 -0.56734211  1.72286214  0.04489734  0.90544807  2.65961102\n",
      "  -0.01116062  0.70906699  0.82307335  0.65309534  1.00601811  0.11092199]] \n",
      "\n",
      " [[-1.00125078  1.7194414  -0.57215401  2.06536225 -1.09388997  0.48162043\n",
      "  -0.00276035  0.83149559 -0.91161489 -1.55196866  0.9614909   1.23683344]\n",
      " [-1.00125078 -0.58158423  1.74778116  0.91916214 -1.09388997  0.09893591\n",
      "   1.03237274 -1.22843833 -0.91161489  0.64434291 -1.04005144  1.16629354]]\n"
     ]
    }
   ],
   "source": [
    "print(x_train[0:2],\"\\n\\n\",x_test[0:2])"
   ]
  },
  {
   "cell_type": "code",
   "execution_count": null,
   "metadata": {},
   "outputs": [],
   "source": [
    "with open(\"standar_scalar.pkl\",\"wb\") as file:\n",
    "    pickle.dump(ss,file)"
   ]
  },
  {
   "cell_type": "markdown",
   "metadata": {},
   "source": [
    "# Nueral Network"
   ]
  },
  {
   "cell_type": "code",
   "execution_count": 106,
   "metadata": {},
   "outputs": [],
   "source": [
    "import torch\n",
    "import torch.nn as nn\n",
    "from torch import optim"
   ]
  },
  {
   "cell_type": "code",
   "execution_count": 159,
   "metadata": {},
   "outputs": [],
   "source": [
    "class NNet(nn.Module):\n",
    "\n",
    "    def __init__(self,input_dim,output_dim,num_hidden_layers, neurons_per_layer, dropout_rate):\n",
    "        \n",
    "        super().__init__()\n",
    "\n",
    "        layers = []\n",
    "\n",
    "        for i in range(num_hidden_layers):\n",
    "\n",
    "            layers.append(nn.Linear(input_dim, neurons_per_layer))\n",
    "            layers.append(nn.BatchNorm1d(neurons_per_layer))\n",
    "            layers.append(nn.ReLU())\n",
    "            layers.append(nn.Dropout(dropout_rate))\n",
    "            input_dim = neurons_per_layer\n",
    "\n",
    "        layers.append(nn.Linear(neurons_per_layer, output_dim))\n",
    "        layers.append(nn.Sigmoid())\n",
    "        \n",
    "        self.model = nn.Sequential(*layers)\n",
    "\n",
    "    def forward(self, x):\n",
    "        return self.model(x)\n",
    "\n"
   ]
  },
  {
   "cell_type": "code",
   "execution_count": 160,
   "metadata": {},
   "outputs": [],
   "source": [
    "y_train  = np.array(y_train).reshape(-1,1)\n",
    "y_test =   np.array(y_test).reshape(-1,1)"
   ]
  },
  {
   "cell_type": "code",
   "execution_count": 161,
   "metadata": {},
   "outputs": [
    {
     "name": "stdout",
     "output_type": "stream",
     "text": [
      "torch.Size([2000, 12]) <class 'torch.Tensor'>\n",
      "torch.Size([8000, 12]) <class 'torch.Tensor'>\n",
      "(2000, 1) <class 'numpy.ndarray'>\n",
      "(8000, 1) <class 'numpy.ndarray'>\n"
     ]
    }
   ],
   "source": [
    "print(x_train.shape,type(x_train))\n",
    "print(x_test.shape,type(x_test))\n",
    "print(y_train.shape,type(y_train))\n",
    "print(y_test.shape,type(y_test))"
   ]
  },
  {
   "cell_type": "code",
   "execution_count": 162,
   "metadata": {},
   "outputs": [],
   "source": [
    "def objective(trial):\n",
    "    num_hidden_layers = trial.suggest_int(\"num_hidden_layers\", 1, 5)\n",
    "    epochs = trial.suggest_int(\"epochs\", 10, 50, step=10)\n",
    "    neurons_per_layer = trial.suggest_int(\"neurons_per_layer\", 8, 128, step=8)\n",
    "    learning_rate = trial.suggest_float(\"learning_rate\", 1e-5, 1e-1, log=True)\n",
    "    dropout_rate = trial.suggest_float(\"dropout_rate\", 0.1, 0.5, step=0.1)\n",
    "    optimizer_name = trial.suggest_categorical(\"optimizer\", ['Adam', 'SGD', 'RMSprop'])\n",
    "    weight_decay = trial.suggest_float(\"weight_decay\", 1e-5, 1e-3, log=True)\n",
    "\n",
    "    input_dim = 12\n",
    "    output_dim = 1\n",
    "\n",
    "    model = NNet(input_dim, output_dim, num_hidden_layers, neurons_per_layer, dropout_rate)\n",
    "    device = torch.device(\"cpu\")\n",
    "    model.to(device)\n",
    "\n",
    "    # Loss function (Binary Cross Entropy)\n",
    "    criterion = nn.BCELoss()\n",
    "\n",
    "    # Optimizer selection\n",
    "    optimizer = {\n",
    "        'Adam': optim.Adam,\n",
    "        'SGD': optim.SGD,\n",
    "        'RMSprop': optim.RMSprop\n",
    "    }[optimizer_name](model.parameters(), lr=learning_rate, weight_decay=weight_decay)\n",
    "\n",
    "    # Convert data to PyTorch tensors\n",
    "    x_train_torch = torch.tensor(x_train, dtype=torch.float32).to(device)\n",
    "    y_train_torch = torch.tensor(y_train, dtype=torch.float32).view(-1, 1).to(device)\n",
    "    x_test_torch = torch.tensor(x_test, dtype=torch.float32).to(device)\n",
    "    y_test_torch = torch.tensor(y_test, dtype=torch.float32).view(-1, 1).to(device)\n",
    "\n",
    "    # Training loop\n",
    "    for epoch in range(epochs):\n",
    "        model.train()\n",
    "        outputs = model(x_train_torch)\n",
    "        loss = criterion(outputs, y_train_torch)\n",
    "\n",
    "        optimizer.zero_grad()\n",
    "        loss.backward()\n",
    "        optimizer.step()\n",
    "\n",
    "    # Evaluation\n",
    "    model.eval()\n",
    "    with torch.no_grad():\n",
    "        outputs = model(x_test_torch)\n",
    "        predictions = (outputs >= 0.5).float()  # Convert to binary predictions (0 or 1)\n",
    "        correct = (predictions == y_test_torch).sum().item()\n",
    "        total = y_test_torch.size(0)\n",
    "\n",
    "    accuracy = correct / total\n",
    "    return accuracy\n"
   ]
  },
  {
   "cell_type": "code",
   "execution_count": 163,
   "metadata": {},
   "outputs": [
    {
     "name": "stderr",
     "output_type": "stream",
     "text": [
      "[I 2025-03-01 22:55:27,886] A new study created in memory with name: no-name-ee566231-13be-4562-a588-ddb656d0d563\n",
      "/tmp/ipykernel_168870/68585872.py:28: UserWarning: To copy construct from a tensor, it is recommended to use sourceTensor.clone().detach() or sourceTensor.clone().detach().requires_grad_(True), rather than torch.tensor(sourceTensor).\n",
      "  x_train_torch = torch.tensor(x_train, dtype=torch.float32).to(device)\n",
      "/tmp/ipykernel_168870/68585872.py:30: UserWarning: To copy construct from a tensor, it is recommended to use sourceTensor.clone().detach() or sourceTensor.clone().detach().requires_grad_(True), rather than torch.tensor(sourceTensor).\n",
      "  x_test_torch = torch.tensor(x_test, dtype=torch.float32).to(device)\n",
      "[I 2025-03-01 22:55:28,475] Trial 0 finished with value: 0.6875 and parameters: {'num_hidden_layers': 5, 'epochs': 50, 'neurons_per_layer': 128, 'learning_rate': 0.0019303281195462644, 'dropout_rate': 0.5, 'optimizer': 'SGD', 'weight_decay': 3.438467365234484e-05}. Best is trial 0 with value: 0.6875.\n",
      "[I 2025-03-01 22:55:28,575] Trial 1 finished with value: 0.794625 and parameters: {'num_hidden_layers': 5, 'epochs': 10, 'neurons_per_layer': 104, 'learning_rate': 5.5877026234150534e-05, 'dropout_rate': 0.1, 'optimizer': 'RMSprop', 'weight_decay': 0.0003001907404256757}. Best is trial 1 with value: 0.794625.\n",
      "[I 2025-03-01 22:55:28,678] Trial 2 finished with value: 0.77575 and parameters: {'num_hidden_layers': 3, 'epochs': 20, 'neurons_per_layer': 96, 'learning_rate': 1.2819498623609533e-05, 'dropout_rate': 0.5, 'optimizer': 'Adam', 'weight_decay': 0.00040715939723671616}. Best is trial 1 with value: 0.794625.\n",
      "[I 2025-03-01 22:55:28,731] Trial 3 finished with value: 0.847125 and parameters: {'num_hidden_layers': 1, 'epochs': 50, 'neurons_per_layer': 112, 'learning_rate': 0.02435111467202325, 'dropout_rate': 0.4, 'optimizer': 'RMSprop', 'weight_decay': 0.0008564912607128046}. Best is trial 3 with value: 0.847125.\n",
      "[I 2025-03-01 22:55:28,760] Trial 4 finished with value: 0.60875 and parameters: {'num_hidden_layers': 1, 'epochs': 30, 'neurons_per_layer': 88, 'learning_rate': 0.00028329854732588386, 'dropout_rate': 0.1, 'optimizer': 'SGD', 'weight_decay': 1.7826661176905253e-05}. Best is trial 3 with value: 0.847125.\n",
      "[I 2025-03-01 22:55:28,874] Trial 5 finished with value: 0.854375 and parameters: {'num_hidden_layers': 3, 'epochs': 50, 'neurons_per_layer': 24, 'learning_rate': 0.021657698124992436, 'dropout_rate': 0.2, 'optimizer': 'Adam', 'weight_decay': 8.13249745018977e-05}. Best is trial 5 with value: 0.854375.\n",
      "[I 2025-03-01 22:55:28,934] Trial 6 finished with value: 0.61775 and parameters: {'num_hidden_layers': 5, 'epochs': 20, 'neurons_per_layer': 32, 'learning_rate': 0.0006657665283467127, 'dropout_rate': 0.30000000000000004, 'optimizer': 'SGD', 'weight_decay': 0.0001174327894794108}. Best is trial 5 with value: 0.854375.\n",
      "[I 2025-03-01 22:55:29,042] Trial 7 finished with value: 0.804875 and parameters: {'num_hidden_layers': 5, 'epochs': 30, 'neurons_per_layer': 24, 'learning_rate': 0.0030492446842867007, 'dropout_rate': 0.2, 'optimizer': 'Adam', 'weight_decay': 0.0009988988864400442}. Best is trial 5 with value: 0.854375.\n",
      "[I 2025-03-01 22:55:29,092] Trial 8 finished with value: 0.481875 and parameters: {'num_hidden_layers': 1, 'epochs': 50, 'neurons_per_layer': 64, 'learning_rate': 0.00010526423794516124, 'dropout_rate': 0.1, 'optimizer': 'SGD', 'weight_decay': 7.169431201876758e-05}. Best is trial 5 with value: 0.854375.\n",
      "[I 2025-03-01 22:55:29,381] Trial 9 finished with value: 0.799875 and parameters: {'num_hidden_layers': 4, 'epochs': 40, 'neurons_per_layer': 88, 'learning_rate': 6.066559099842366e-05, 'dropout_rate': 0.5, 'optimizer': 'RMSprop', 'weight_decay': 5.1112077754838736e-05}. Best is trial 5 with value: 0.854375.\n",
      "[I 2025-03-01 22:55:29,474] Trial 10 finished with value: 0.794125 and parameters: {'num_hidden_layers': 3, 'epochs': 40, 'neurons_per_layer': 8, 'learning_rate': 0.08606292633419628, 'dropout_rate': 0.30000000000000004, 'optimizer': 'Adam', 'weight_decay': 1.1636810054619059e-05}. Best is trial 5 with value: 0.854375.\n",
      "[I 2025-03-01 22:55:29,577] Trial 11 finished with value: 0.851125 and parameters: {'num_hidden_layers': 2, 'epochs': 50, 'neurons_per_layer': 56, 'learning_rate': 0.03173441543274807, 'dropout_rate': 0.4, 'optimizer': 'RMSprop', 'weight_decay': 0.00017755727414928073}. Best is trial 5 with value: 0.854375.\n",
      "[I 2025-03-01 22:55:29,655] Trial 12 finished with value: 0.8465 and parameters: {'num_hidden_layers': 2, 'epochs': 40, 'neurons_per_layer': 56, 'learning_rate': 0.010467229990227218, 'dropout_rate': 0.2, 'optimizer': 'RMSprop', 'weight_decay': 0.00015954651217908234}. Best is trial 5 with value: 0.854375.\n",
      "[I 2025-03-01 22:55:29,745] Trial 13 finished with value: 0.8485 and parameters: {'num_hidden_layers': 2, 'epochs': 50, 'neurons_per_layer': 40, 'learning_rate': 0.0964280670039068, 'dropout_rate': 0.4, 'optimizer': 'Adam', 'weight_decay': 0.00026590880766626387}. Best is trial 5 with value: 0.854375.\n",
      "[I 2025-03-01 22:55:29,813] Trial 14 finished with value: 0.842125 and parameters: {'num_hidden_layers': 2, 'epochs': 40, 'neurons_per_layer': 48, 'learning_rate': 0.013159253825373252, 'dropout_rate': 0.2, 'optimizer': 'RMSprop', 'weight_decay': 0.00015717780774958688}. Best is trial 5 with value: 0.854375.\n",
      "[I 2025-03-01 22:55:29,928] Trial 15 finished with value: 0.794125 and parameters: {'num_hidden_layers': 4, 'epochs': 50, 'neurons_per_layer': 8, 'learning_rate': 0.005483078313143248, 'dropout_rate': 0.4, 'optimizer': 'Adam', 'weight_decay': 3.185171812726796e-05}. Best is trial 5 with value: 0.854375.\n",
      "[I 2025-03-01 22:55:30,132] Trial 16 finished with value: 0.847 and parameters: {'num_hidden_layers': 3, 'epochs': 40, 'neurons_per_layer': 80, 'learning_rate': 0.038391452118837106, 'dropout_rate': 0.30000000000000004, 'optimizer': 'Adam', 'weight_decay': 8.175353033322586e-05}. Best is trial 5 with value: 0.854375.\n",
      "[I 2025-03-01 22:55:30,187] Trial 17 finished with value: 0.823125 and parameters: {'num_hidden_layers': 2, 'epochs': 30, 'neurons_per_layer': 24, 'learning_rate': 0.02240538705322273, 'dropout_rate': 0.4, 'optimizer': 'RMSprop', 'weight_decay': 0.00047719241759030054}. Best is trial 5 with value: 0.854375.\n",
      "[I 2025-03-01 22:55:30,307] Trial 18 finished with value: 0.814625 and parameters: {'num_hidden_layers': 4, 'epochs': 20, 'neurons_per_layer': 72, 'learning_rate': 0.0008779396282558816, 'dropout_rate': 0.2, 'optimizer': 'Adam', 'weight_decay': 0.0001869528332330442}. Best is trial 5 with value: 0.854375.\n",
      "[I 2025-03-01 22:55:30,408] Trial 19 finished with value: 0.852 and parameters: {'num_hidden_layers': 2, 'epochs': 50, 'neurons_per_layer': 48, 'learning_rate': 0.005217286406627277, 'dropout_rate': 0.30000000000000004, 'optimizer': 'RMSprop', 'weight_decay': 5.4035299218843876e-05}. Best is trial 5 with value: 0.854375.\n",
      "[I 2025-03-01 22:55:30,449] Trial 20 finished with value: 0.83625 and parameters: {'num_hidden_layers': 3, 'epochs': 10, 'neurons_per_layer': 24, 'learning_rate': 0.0038271932939833915, 'dropout_rate': 0.2, 'optimizer': 'RMSprop', 'weight_decay': 4.280464979560498e-05}. Best is trial 5 with value: 0.854375.\n",
      "[I 2025-03-01 22:55:30,536] Trial 21 finished with value: 0.852125 and parameters: {'num_hidden_layers': 2, 'epochs': 50, 'neurons_per_layer': 48, 'learning_rate': 0.010205821329731298, 'dropout_rate': 0.30000000000000004, 'optimizer': 'RMSprop', 'weight_decay': 6.254041677023614e-05}. Best is trial 5 with value: 0.854375.\n",
      "[I 2025-03-01 22:55:30,654] Trial 22 finished with value: 0.852125 and parameters: {'num_hidden_layers': 3, 'epochs': 50, 'neurons_per_layer': 40, 'learning_rate': 0.008527702675158568, 'dropout_rate': 0.30000000000000004, 'optimizer': 'RMSprop', 'weight_decay': 5.704188623519276e-05}. Best is trial 5 with value: 0.854375.\n",
      "[I 2025-03-01 22:55:30,751] Trial 23 finished with value: 0.853625 and parameters: {'num_hidden_layers': 3, 'epochs': 40, 'neurons_per_layer': 40, 'learning_rate': 0.010659671352965994, 'dropout_rate': 0.30000000000000004, 'optimizer': 'RMSprop', 'weight_decay': 2.816912188760928e-05}. Best is trial 5 with value: 0.854375.\n",
      "[I 2025-03-01 22:55:30,854] Trial 24 finished with value: 0.8335 and parameters: {'num_hidden_layers': 4, 'epochs': 40, 'neurons_per_layer': 16, 'learning_rate': 0.0017137503553376998, 'dropout_rate': 0.2, 'optimizer': 'RMSprop', 'weight_decay': 2.0898326098705136e-05}. Best is trial 5 with value: 0.854375.\n",
      "[I 2025-03-01 22:55:30,974] Trial 25 finished with value: 0.845125 and parameters: {'num_hidden_layers': 3, 'epochs': 40, 'neurons_per_layer': 40, 'learning_rate': 0.056429549574391794, 'dropout_rate': 0.30000000000000004, 'optimizer': 'Adam', 'weight_decay': 2.5621336406945494e-05}. Best is trial 5 with value: 0.854375.\n",
      "[I 2025-03-01 22:55:31,105] Trial 26 finished with value: 0.836625 and parameters: {'num_hidden_layers': 3, 'epochs': 40, 'neurons_per_layer': 64, 'learning_rate': 0.017531647614475034, 'dropout_rate': 0.2, 'optimizer': 'RMSprop', 'weight_decay': 1.0688432065677803e-05}. Best is trial 5 with value: 0.854375.\n",
      "[I 2025-03-01 22:55:31,201] Trial 27 finished with value: 0.843875 and parameters: {'num_hidden_layers': 4, 'epochs': 30, 'neurons_per_layer': 32, 'learning_rate': 0.007926530015399147, 'dropout_rate': 0.30000000000000004, 'optimizer': 'RMSprop', 'weight_decay': 0.0001041907313764289}. Best is trial 5 with value: 0.854375.\n",
      "[I 2025-03-01 22:55:31,290] Trial 28 finished with value: 0.506125 and parameters: {'num_hidden_layers': 2, 'epochs': 50, 'neurons_per_layer': 48, 'learning_rate': 0.002106108419636985, 'dropout_rate': 0.1, 'optimizer': 'SGD', 'weight_decay': 1.5681632791713757e-05}. Best is trial 5 with value: 0.854375.\n",
      "[I 2025-03-01 22:55:31,716] Trial 29 finished with value: 0.826 and parameters: {'num_hidden_layers': 3, 'epochs': 50, 'neurons_per_layer': 128, 'learning_rate': 0.0004687437386968043, 'dropout_rate': 0.2, 'optimizer': 'Adam', 'weight_decay': 3.4615581433055687e-05}. Best is trial 5 with value: 0.854375.\n",
      "[I 2025-03-01 22:55:31,759] Trial 30 finished with value: 0.767625 and parameters: {'num_hidden_layers': 1, 'epochs': 40, 'neurons_per_layer': 16, 'learning_rate': 0.001339678498111535, 'dropout_rate': 0.4, 'optimizer': 'SGD', 'weight_decay': 8.159260655767286e-05}. Best is trial 5 with value: 0.854375.\n",
      "[I 2025-03-01 22:55:31,857] Trial 31 finished with value: 0.853875 and parameters: {'num_hidden_layers': 3, 'epochs': 50, 'neurons_per_layer': 32, 'learning_rate': 0.008781063230355, 'dropout_rate': 0.30000000000000004, 'optimizer': 'RMSprop', 'weight_decay': 6.239546629623343e-05}. Best is trial 5 with value: 0.854375.\n",
      "[I 2025-03-01 22:55:31,961] Trial 32 finished with value: 0.84225 and parameters: {'num_hidden_layers': 3, 'epochs': 50, 'neurons_per_layer': 32, 'learning_rate': 0.0503469950934118, 'dropout_rate': 0.30000000000000004, 'optimizer': 'RMSprop', 'weight_decay': 3.829972801591635e-05}. Best is trial 5 with value: 0.854375.\n",
      "[I 2025-03-01 22:55:32,095] Trial 33 finished with value: 0.846625 and parameters: {'num_hidden_layers': 3, 'epochs': 50, 'neurons_per_layer': 56, 'learning_rate': 0.015127217219756565, 'dropout_rate': 0.30000000000000004, 'optimizer': 'RMSprop', 'weight_decay': 2.5646894052114268e-05}. Best is trial 5 with value: 0.854375.\n",
      "[I 2025-03-01 22:55:32,195] Trial 34 finished with value: 0.824875 and parameters: {'num_hidden_layers': 4, 'epochs': 50, 'neurons_per_layer': 16, 'learning_rate': 0.0028377539383237825, 'dropout_rate': 0.30000000000000004, 'optimizer': 'RMSprop', 'weight_decay': 6.270633350836537e-05}. Best is trial 5 with value: 0.854375.\n",
      "[I 2025-03-01 22:55:32,270] Trial 35 finished with value: 0.855375 and parameters: {'num_hidden_layers': 2, 'epochs': 50, 'neurons_per_layer': 32, 'learning_rate': 0.005953027573821317, 'dropout_rate': 0.5, 'optimizer': 'RMSprop', 'weight_decay': 0.00012560049321748383}. Best is trial 35 with value: 0.855375.\n",
      "[I 2025-03-01 22:55:32,364] Trial 36 finished with value: 0.828375 and parameters: {'num_hidden_layers': 3, 'epochs': 40, 'neurons_per_layer': 32, 'learning_rate': 0.005985067655987686, 'dropout_rate': 0.5, 'optimizer': 'RMSprop', 'weight_decay': 0.00012653954104483312}. Best is trial 35 with value: 0.855375.\n",
      "[I 2025-03-01 22:55:32,417] Trial 37 finished with value: 0.305875 and parameters: {'num_hidden_layers': 1, 'epochs': 30, 'neurons_per_layer': 24, 'learning_rate': 1.5114869233288752e-05, 'dropout_rate': 0.5, 'optimizer': 'Adam', 'weight_decay': 0.0002341918709672137}. Best is trial 35 with value: 0.855375.\n",
      "[I 2025-03-01 22:55:32,575] Trial 38 finished with value: 0.79475 and parameters: {'num_hidden_layers': 4, 'epochs': 50, 'neurons_per_layer': 40, 'learning_rate': 0.024560113348338835, 'dropout_rate': 0.1, 'optimizer': 'SGD', 'weight_decay': 0.0003500494902325771}. Best is trial 35 with value: 0.855375.\n",
      "[I 2025-03-01 22:55:32,660] Trial 39 finished with value: 0.794375 and parameters: {'num_hidden_layers': 2, 'epochs': 50, 'neurons_per_layer': 8, 'learning_rate': 0.003168139517138432, 'dropout_rate': 0.5, 'optimizer': 'RMSprop', 'weight_decay': 9.089650454505895e-05}. Best is trial 35 with value: 0.855375.\n",
      "[I 2025-03-01 22:55:32,785] Trial 40 finished with value: 0.467 and parameters: {'num_hidden_layers': 5, 'epochs': 40, 'neurons_per_layer': 16, 'learning_rate': 0.00029269716422829824, 'dropout_rate': 0.1, 'optimizer': 'Adam', 'weight_decay': 4.598595232426889e-05}. Best is trial 35 with value: 0.855375.\n",
      "[I 2025-03-01 22:55:32,865] Trial 41 finished with value: 0.853125 and parameters: {'num_hidden_layers': 2, 'epochs': 50, 'neurons_per_layer': 32, 'learning_rate': 0.00990321750724525, 'dropout_rate': 0.4, 'optimizer': 'RMSprop', 'weight_decay': 0.00012366893408741157}. Best is trial 35 with value: 0.855375.\n",
      "[I 2025-03-01 22:55:32,971] Trial 42 finished with value: 0.84725 and parameters: {'num_hidden_layers': 3, 'epochs': 50, 'neurons_per_layer': 32, 'learning_rate': 0.02007643690649889, 'dropout_rate': 0.4, 'optimizer': 'RMSprop', 'weight_decay': 0.00012557266619491345}. Best is trial 35 with value: 0.855375.\n",
      "[I 2025-03-01 22:55:33,032] Trial 43 finished with value: 0.844625 and parameters: {'num_hidden_layers': 1, 'epochs': 50, 'neurons_per_layer': 24, 'learning_rate': 0.03479864901134225, 'dropout_rate': 0.5, 'optimizer': 'RMSprop', 'weight_decay': 0.0001059693165064379}. Best is trial 35 with value: 0.855375.\n",
      "[I 2025-03-01 22:55:33,135] Trial 44 finished with value: 0.849875 and parameters: {'num_hidden_layers': 2, 'epochs': 50, 'neurons_per_layer': 40, 'learning_rate': 0.0065702672236870084, 'dropout_rate': 0.4, 'optimizer': 'RMSprop', 'weight_decay': 7.681682515432969e-05}. Best is trial 35 with value: 0.855375.\n",
      "[I 2025-03-01 22:55:33,217] Trial 45 finished with value: 0.848125 and parameters: {'num_hidden_layers': 2, 'epochs': 40, 'neurons_per_layer': 32, 'learning_rate': 0.010682541405542137, 'dropout_rate': 0.4, 'optimizer': 'RMSprop', 'weight_decay': 0.0005256592726603836}. Best is trial 35 with value: 0.855375.\n",
      "[I 2025-03-01 22:55:33,539] Trial 46 finished with value: 0.79625 and parameters: {'num_hidden_layers': 3, 'epochs': 50, 'neurons_per_layer': 104, 'learning_rate': 0.06363991851655307, 'dropout_rate': 0.5, 'optimizer': 'SGD', 'weight_decay': 0.00013483370385371875}. Best is trial 35 with value: 0.855375.\n",
      "[I 2025-03-01 22:55:33,588] Trial 47 finished with value: 0.836375 and parameters: {'num_hidden_layers': 1, 'epochs': 40, 'neurons_per_layer': 16, 'learning_rate': 0.004457167823929284, 'dropout_rate': 0.4, 'optimizer': 'RMSprop', 'weight_decay': 0.00020077788373263592}. Best is trial 35 with value: 0.855375.\n",
      "[I 2025-03-01 22:55:33,628] Trial 48 finished with value: 0.821125 and parameters: {'num_hidden_layers': 2, 'epochs': 10, 'neurons_per_layer': 56, 'learning_rate': 0.014885718216264969, 'dropout_rate': 0.4, 'optimizer': 'RMSprop', 'weight_decay': 9.858514243419692e-05}. Best is trial 35 with value: 0.855375.\n",
      "[I 2025-03-01 22:55:33,690] Trial 49 finished with value: 0.79375 and parameters: {'num_hidden_layers': 2, 'epochs': 30, 'neurons_per_layer': 24, 'learning_rate': 0.028793502053678515, 'dropout_rate': 0.5, 'optimizer': 'Adam', 'weight_decay': 0.00014382633425723794}. Best is trial 35 with value: 0.855375.\n",
      "[I 2025-03-01 22:55:33,818] Trial 50 finished with value: 0.851375 and parameters: {'num_hidden_layers': 3, 'epochs': 50, 'neurons_per_layer': 64, 'learning_rate': 0.0018888125565140366, 'dropout_rate': 0.2, 'optimizer': 'RMSprop', 'weight_decay': 1.348243361130817e-05}. Best is trial 35 with value: 0.855375.\n",
      "[I 2025-03-01 22:55:33,905] Trial 51 finished with value: 0.85275 and parameters: {'num_hidden_layers': 2, 'epochs': 50, 'neurons_per_layer': 48, 'learning_rate': 0.00984708401061381, 'dropout_rate': 0.30000000000000004, 'optimizer': 'RMSprop', 'weight_decay': 6.689524397004783e-05}. Best is trial 35 with value: 0.855375.\n",
      "[I 2025-03-01 22:55:34,006] Trial 52 finished with value: 0.852625 and parameters: {'num_hidden_layers': 2, 'epochs': 50, 'neurons_per_layer': 40, 'learning_rate': 0.012294735948585092, 'dropout_rate': 0.30000000000000004, 'optimizer': 'RMSprop', 'weight_decay': 6.814769292690773e-05}. Best is trial 35 with value: 0.855375.\n",
      "[I 2025-03-01 22:55:34,103] Trial 53 finished with value: 0.851 and parameters: {'num_hidden_layers': 2, 'epochs': 50, 'neurons_per_layer': 48, 'learning_rate': 0.0075754271012758705, 'dropout_rate': 0.30000000000000004, 'optimizer': 'RMSprop', 'weight_decay': 4.626571277124528e-05}. Best is trial 35 with value: 0.855375.\n",
      "[I 2025-03-01 22:55:34,205] Trial 54 finished with value: 0.794125 and parameters: {'num_hidden_layers': 3, 'epochs': 50, 'neurons_per_layer': 32, 'learning_rate': 0.04402771269190656, 'dropout_rate': 0.4, 'optimizer': 'RMSprop', 'weight_decay': 0.0001632294382354609}. Best is trial 35 with value: 0.855375.\n",
      "[I 2025-03-01 22:55:34,324] Trial 55 finished with value: 0.853 and parameters: {'num_hidden_layers': 2, 'epochs': 50, 'neurons_per_layer': 72, 'learning_rate': 0.019739249982908404, 'dropout_rate': 0.30000000000000004, 'optimizer': 'RMSprop', 'weight_decay': 2.8969821528008795e-05}. Best is trial 35 with value: 0.855375.\n",
      "[I 2025-03-01 22:55:34,385] Trial 56 finished with value: 0.842625 and parameters: {'num_hidden_layers': 1, 'epochs': 40, 'neurons_per_layer': 72, 'learning_rate': 0.01919336361239243, 'dropout_rate': 0.30000000000000004, 'optimizer': 'Adam', 'weight_decay': 2.8098415780810207e-05}. Best is trial 35 with value: 0.855375.\n",
      "[I 2025-03-01 22:55:34,501] Trial 57 finished with value: 0.847125 and parameters: {'num_hidden_layers': 3, 'epochs': 20, 'neurons_per_layer': 80, 'learning_rate': 0.003865999133565303, 'dropout_rate': 0.2, 'optimizer': 'RMSprop', 'weight_decay': 2.1355101888116892e-05}. Best is trial 35 with value: 0.855375.\n",
      "[I 2025-03-01 22:55:34,706] Trial 58 finished with value: 0.843375 and parameters: {'num_hidden_layers': 2, 'epochs': 50, 'neurons_per_layer': 88, 'learning_rate': 0.0314527775064542, 'dropout_rate': 0.2, 'optimizer': 'RMSprop', 'weight_decay': 1.9319720545854247e-05}. Best is trial 35 with value: 0.855375.\n",
      "[I 2025-03-01 22:55:34,911] Trial 59 finished with value: 0.847875 and parameters: {'num_hidden_layers': 3, 'epochs': 40, 'neurons_per_layer': 80, 'learning_rate': 0.09587530994224673, 'dropout_rate': 0.4, 'optimizer': 'Adam', 'weight_decay': 3.1710031162642135e-05}. Best is trial 35 with value: 0.855375.\n",
      "[I 2025-03-01 22:55:35,386] Trial 60 finished with value: 0.847875 and parameters: {'num_hidden_layers': 4, 'epochs': 50, 'neurons_per_layer': 112, 'learning_rate': 0.0026593060831600246, 'dropout_rate': 0.30000000000000004, 'optimizer': 'RMSprop', 'weight_decay': 0.0002139795988579029}. Best is trial 35 with value: 0.855375.\n",
      "[I 2025-03-01 22:55:35,473] Trial 61 finished with value: 0.8495 and parameters: {'num_hidden_layers': 2, 'epochs': 50, 'neurons_per_layer': 48, 'learning_rate': 0.00868944734844397, 'dropout_rate': 0.30000000000000004, 'optimizer': 'RMSprop', 'weight_decay': 9.099376758849709e-05}. Best is trial 35 with value: 0.855375.\n",
      "[I 2025-03-01 22:55:35,557] Trial 62 finished with value: 0.845125 and parameters: {'num_hidden_layers': 2, 'epochs': 50, 'neurons_per_layer': 24, 'learning_rate': 0.01376590873895384, 'dropout_rate': 0.30000000000000004, 'optimizer': 'RMSprop', 'weight_decay': 5.5910824484585664e-05}. Best is trial 35 with value: 0.855375.\n",
      "[I 2025-03-01 22:55:35,655] Trial 63 finished with value: 0.85325 and parameters: {'num_hidden_layers': 2, 'epochs': 50, 'neurons_per_layer': 40, 'learning_rate': 0.00570713055835428, 'dropout_rate': 0.30000000000000004, 'optimizer': 'RMSprop', 'weight_decay': 0.00011137884754356543}. Best is trial 35 with value: 0.855375.\n",
      "[I 2025-03-01 22:55:35,776] Trial 64 finished with value: 0.851625 and parameters: {'num_hidden_layers': 2, 'epochs': 50, 'neurons_per_layer': 72, 'learning_rate': 0.005283600803634034, 'dropout_rate': 0.30000000000000004, 'optimizer': 'RMSprop', 'weight_decay': 0.00011205239256381616}. Best is trial 35 with value: 0.855375.\n",
      "[I 2025-03-01 22:55:35,882] Trial 65 finished with value: 0.54125 and parameters: {'num_hidden_layers': 3, 'epochs': 50, 'neurons_per_layer': 40, 'learning_rate': 0.0010541186789083418, 'dropout_rate': 0.30000000000000004, 'optimizer': 'SGD', 'weight_decay': 3.91826205440964e-05}. Best is trial 35 with value: 0.855375.\n",
      "[I 2025-03-01 22:55:35,972] Trial 66 finished with value: 0.838125 and parameters: {'num_hidden_layers': 2, 'epochs': 50, 'neurons_per_layer': 24, 'learning_rate': 0.06500642388315021, 'dropout_rate': 0.2, 'optimizer': 'RMSprop', 'weight_decay': 0.0002717979263664033}. Best is trial 35 with value: 0.855375.\n",
      "[I 2025-03-01 22:55:36,069] Trial 67 finished with value: 0.8525 and parameters: {'num_hidden_layers': 2, 'epochs': 50, 'neurons_per_layer': 56, 'learning_rate': 0.021759658493524847, 'dropout_rate': 0.30000000000000004, 'optimizer': 'RMSprop', 'weight_decay': 0.00016839836438245305}. Best is trial 35 with value: 0.855375.\n",
      "[I 2025-03-01 22:55:36,157] Trial 68 finished with value: 0.807875 and parameters: {'num_hidden_layers': 3, 'epochs': 40, 'neurons_per_layer': 32, 'learning_rate': 0.0046387539868055485, 'dropout_rate': 0.4, 'optimizer': 'Adam', 'weight_decay': 8.129238796621127e-05}. Best is trial 35 with value: 0.855375.\n",
      "[I 2025-03-01 22:55:36,250] Trial 69 finished with value: 0.8325 and parameters: {'num_hidden_layers': 3, 'epochs': 50, 'neurons_per_layer': 8, 'learning_rate': 0.006632955689930222, 'dropout_rate': 0.2, 'optimizer': 'RMSprop', 'weight_decay': 1.6224556701823877e-05}. Best is trial 35 with value: 0.855375.\n",
      "[I 2025-03-01 22:55:36,313] Trial 70 finished with value: 0.85175 and parameters: {'num_hidden_layers': 1, 'epochs': 50, 'neurons_per_layer': 64, 'learning_rate': 0.016698245070460253, 'dropout_rate': 0.4, 'optimizer': 'RMSprop', 'weight_decay': 0.00011689948384899007}. Best is trial 35 with value: 0.855375.\n",
      "[I 2025-03-01 22:55:36,403] Trial 71 finished with value: 0.85425 and parameters: {'num_hidden_layers': 2, 'epochs': 50, 'neurons_per_layer': 40, 'learning_rate': 0.01035813632111233, 'dropout_rate': 0.30000000000000004, 'optimizer': 'RMSprop', 'weight_decay': 6.822308687444232e-05}. Best is trial 35 with value: 0.855375.\n",
      "[I 2025-03-01 22:55:36,495] Trial 72 finished with value: 0.853 and parameters: {'num_hidden_layers': 2, 'epochs': 50, 'neurons_per_layer': 40, 'learning_rate': 0.011210725169083231, 'dropout_rate': 0.30000000000000004, 'optimizer': 'RMSprop', 'weight_decay': 4.938535865400304e-05}. Best is trial 35 with value: 0.855375.\n",
      "[I 2025-03-01 22:55:36,572] Trial 73 finished with value: 0.854625 and parameters: {'num_hidden_layers': 2, 'epochs': 50, 'neurons_per_layer': 32, 'learning_rate': 0.008135540839004047, 'dropout_rate': 0.30000000000000004, 'optimizer': 'RMSprop', 'weight_decay': 9.54024875561634e-05}. Best is trial 35 with value: 0.855375.\n",
      "[I 2025-03-01 22:55:36,652] Trial 74 finished with value: 0.853125 and parameters: {'num_hidden_layers': 2, 'epochs': 50, 'neurons_per_layer': 32, 'learning_rate': 0.0035318589185009534, 'dropout_rate': 0.30000000000000004, 'optimizer': 'RMSprop', 'weight_decay': 9.229054103503234e-05}. Best is trial 35 with value: 0.855375.\n",
      "[I 2025-03-01 22:55:36,738] Trial 75 finished with value: 0.837625 and parameters: {'num_hidden_layers': 3, 'epochs': 40, 'neurons_per_layer': 24, 'learning_rate': 0.002411134595466474, 'dropout_rate': 0.30000000000000004, 'optimizer': 'RMSprop', 'weight_decay': 0.00013970325312763742}. Best is trial 35 with value: 0.855375.\n",
      "[I 2025-03-01 22:55:36,816] Trial 76 finished with value: 0.853 and parameters: {'num_hidden_layers': 2, 'epochs': 50, 'neurons_per_layer': 16, 'learning_rate': 0.0059791279607728, 'dropout_rate': 0.30000000000000004, 'optimizer': 'RMSprop', 'weight_decay': 7.8353638490458e-05}. Best is trial 35 with value: 0.855375.\n",
      "[I 2025-03-01 22:55:36,921] Trial 77 finished with value: 0.794 and parameters: {'num_hidden_layers': 4, 'epochs': 50, 'neurons_per_layer': 32, 'learning_rate': 0.008370700183031293, 'dropout_rate': 0.30000000000000004, 'optimizer': 'SGD', 'weight_decay': 7.056193908892937e-05}. Best is trial 35 with value: 0.855375.\n",
      "[I 2025-03-01 22:55:36,987] Trial 78 finished with value: 0.843375 and parameters: {'num_hidden_layers': 1, 'epochs': 50, 'neurons_per_layer': 48, 'learning_rate': 0.026718247998302875, 'dropout_rate': 0.2, 'optimizer': 'Adam', 'weight_decay': 5.985359538051011e-05}. Best is trial 35 with value: 0.855375.\n",
      "[I 2025-03-01 22:55:37,080] Trial 79 finished with value: 0.84825 and parameters: {'num_hidden_layers': 3, 'epochs': 40, 'neurons_per_layer': 40, 'learning_rate': 0.014151834110667841, 'dropout_rate': 0.4, 'optimizer': 'RMSprop', 'weight_decay': 0.00014700789108454935}. Best is trial 35 with value: 0.855375.\n",
      "[I 2025-03-01 22:55:37,173] Trial 80 finished with value: 0.84675 and parameters: {'num_hidden_layers': 2, 'epochs': 50, 'neurons_per_layer': 40, 'learning_rate': 0.004182883804234205, 'dropout_rate': 0.1, 'optimizer': 'RMSprop', 'weight_decay': 0.0001026631971098698}. Best is trial 35 with value: 0.855375.\n",
      "[I 2025-03-01 22:55:37,256] Trial 81 finished with value: 0.853 and parameters: {'num_hidden_layers': 2, 'epochs': 50, 'neurons_per_layer': 32, 'learning_rate': 0.006778811658818032, 'dropout_rate': 0.30000000000000004, 'optimizer': 'RMSprop', 'weight_decay': 8.9143782408413e-05}. Best is trial 35 with value: 0.855375.\n",
      "[I 2025-03-01 22:55:37,353] Trial 82 finished with value: 0.852875 and parameters: {'num_hidden_layers': 2, 'epochs': 50, 'neurons_per_layer': 32, 'learning_rate': 0.0035243369350481868, 'dropout_rate': 0.30000000000000004, 'optimizer': 'RMSprop', 'weight_decay': 0.00012161509940424174}. Best is trial 35 with value: 0.855375.\n",
      "[I 2025-03-01 22:55:37,442] Trial 83 finished with value: 0.853125 and parameters: {'num_hidden_layers': 2, 'epochs': 50, 'neurons_per_layer': 24, 'learning_rate': 0.009946987848711007, 'dropout_rate': 0.30000000000000004, 'optimizer': 'RMSprop', 'weight_decay': 9.097960821760274e-05}. Best is trial 35 with value: 0.855375.\n",
      "[I 2025-03-01 22:55:37,525] Trial 84 finished with value: 0.851375 and parameters: {'num_hidden_layers': 2, 'epochs': 50, 'neurons_per_layer': 32, 'learning_rate': 0.001607043109176576, 'dropout_rate': 0.30000000000000004, 'optimizer': 'RMSprop', 'weight_decay': 0.0001859626043026521}. Best is trial 35 with value: 0.855375.\n",
      "[I 2025-03-01 22:55:37,607] Trial 85 finished with value: 0.851625 and parameters: {'num_hidden_layers': 2, 'epochs': 50, 'neurons_per_layer': 24, 'learning_rate': 0.004903048158203748, 'dropout_rate': 0.30000000000000004, 'optimizer': 'RMSprop', 'weight_decay': 0.00010250229232315956}. Best is trial 35 with value: 0.855375.\n",
      "[I 2025-03-01 22:55:37,702] Trial 86 finished with value: 0.7815 and parameters: {'num_hidden_layers': 2, 'epochs': 50, 'neurons_per_layer': 40, 'learning_rate': 0.00010753969037809879, 'dropout_rate': 0.5, 'optimizer': 'RMSprop', 'weight_decay': 7.38622328784243e-05}. Best is trial 35 with value: 0.855375.\n",
      "[I 2025-03-01 22:55:37,805] Trial 87 finished with value: 0.85125 and parameters: {'num_hidden_layers': 3, 'epochs': 40, 'neurons_per_layer': 32, 'learning_rate': 0.011548065488910667, 'dropout_rate': 0.30000000000000004, 'optimizer': 'Adam', 'weight_decay': 6.34993172543412e-05}. Best is trial 35 with value: 0.855375.\n",
      "[I 2025-03-01 22:55:37,887] Trial 88 finished with value: 0.8055 and parameters: {'num_hidden_layers': 2, 'epochs': 50, 'neurons_per_layer': 16, 'learning_rate': 0.003386147071580752, 'dropout_rate': 0.5, 'optimizer': 'RMSprop', 'weight_decay': 0.00013124937283040528}. Best is trial 35 with value: 0.855375.\n",
      "[I 2025-03-01 22:55:38,014] Trial 89 finished with value: 0.85325 and parameters: {'num_hidden_layers': 5, 'epochs': 30, 'neurons_per_layer': 40, 'learning_rate': 0.007920896354666307, 'dropout_rate': 0.2, 'optimizer': 'RMSprop', 'weight_decay': 8.610388042014792e-05}. Best is trial 35 with value: 0.855375.\n",
      "[I 2025-03-01 22:55:38,104] Trial 90 finished with value: 0.7845 and parameters: {'num_hidden_layers': 4, 'epochs': 30, 'neurons_per_layer': 48, 'learning_rate': 0.009386360660830385, 'dropout_rate': 0.2, 'optimizer': 'SGD', 'weight_decay': 5.080803693491888e-05}. Best is trial 35 with value: 0.855375.\n",
      "[I 2025-03-01 22:55:38,227] Trial 91 finished with value: 0.854 and parameters: {'num_hidden_layers': 5, 'epochs': 30, 'neurons_per_layer': 40, 'learning_rate': 0.007198877614336293, 'dropout_rate': 0.2, 'optimizer': 'RMSprop', 'weight_decay': 8.608383319143987e-05}. Best is trial 35 with value: 0.855375.\n",
      "[I 2025-03-01 22:55:38,357] Trial 92 finished with value: 0.853375 and parameters: {'num_hidden_layers': 5, 'epochs': 30, 'neurons_per_layer': 40, 'learning_rate': 0.008146611570877177, 'dropout_rate': 0.2, 'optimizer': 'RMSprop', 'weight_decay': 8.58690179904072e-05}. Best is trial 35 with value: 0.855375.\n",
      "[I 2025-03-01 22:55:38,476] Trial 93 finished with value: 0.850375 and parameters: {'num_hidden_layers': 5, 'epochs': 30, 'neurons_per_layer': 40, 'learning_rate': 0.007355813703186418, 'dropout_rate': 0.2, 'optimizer': 'RMSprop', 'weight_decay': 8.339865270812595e-05}. Best is trial 35 with value: 0.855375.\n",
      "[I 2025-03-01 22:55:38,589] Trial 94 finished with value: 0.845875 and parameters: {'num_hidden_layers': 5, 'epochs': 30, 'neurons_per_layer': 48, 'learning_rate': 0.012755019157915645, 'dropout_rate': 0.2, 'optimizer': 'RMSprop', 'weight_decay': 7.525928508930032e-05}. Best is trial 35 with value: 0.855375.\n",
      "[I 2025-03-01 22:55:38,725] Trial 95 finished with value: 0.850125 and parameters: {'num_hidden_layers': 5, 'epochs': 30, 'neurons_per_layer': 56, 'learning_rate': 0.017322383092255755, 'dropout_rate': 0.2, 'optimizer': 'RMSprop', 'weight_decay': 0.0001107310669115101}. Best is trial 35 with value: 0.855375.\n",
      "[I 2025-03-01 22:55:38,841] Trial 96 finished with value: 0.851375 and parameters: {'num_hidden_layers': 5, 'epochs': 30, 'neurons_per_layer': 40, 'learning_rate': 0.0054868840816780185, 'dropout_rate': 0.2, 'optimizer': 'RMSprop', 'weight_decay': 5.5377549277247284e-05}. Best is trial 35 with value: 0.855375.\n",
      "[I 2025-03-01 22:55:38,925] Trial 97 finished with value: 0.845875 and parameters: {'num_hidden_layers': 5, 'epochs': 20, 'neurons_per_layer': 40, 'learning_rate': 0.0074991674309713655, 'dropout_rate': 0.1, 'optimizer': 'RMSprop', 'weight_decay': 4.0945950497296486e-05}. Best is trial 35 with value: 0.855375.\n",
      "[I 2025-03-01 22:55:39,043] Trial 98 finished with value: 0.842125 and parameters: {'num_hidden_layers': 5, 'epochs': 30, 'neurons_per_layer': 48, 'learning_rate': 0.02395508361357944, 'dropout_rate': 0.2, 'optimizer': 'Adam', 'weight_decay': 6.646538739736426e-05}. Best is trial 35 with value: 0.855375.\n",
      "[I 2025-03-01 22:55:39,154] Trial 99 finished with value: 0.85 and parameters: {'num_hidden_layers': 5, 'epochs': 30, 'neurons_per_layer': 40, 'learning_rate': 0.015591579712064568, 'dropout_rate': 0.2, 'optimizer': 'RMSprop', 'weight_decay': 9.465194193300802e-05}. Best is trial 35 with value: 0.855375.\n"
     ]
    }
   ],
   "source": [
    "study = optuna.create_study(direction='maximize')\n",
    "study.optimize(objective, n_trials=100)"
   ]
  },
  {
   "cell_type": "code",
   "execution_count": 165,
   "metadata": {},
   "outputs": [
    {
     "name": "stdout",
     "output_type": "stream",
     "text": [
      "Best trial parameters: {'num_hidden_layers': 2, 'epochs': 50, 'neurons_per_layer': 32, 'learning_rate': 0.005953027573821317, 'dropout_rate': 0.5, 'optimizer': 'RMSprop', 'weight_decay': 0.00012560049321748383}\n",
      "Best trial accuracy: 0.855375\n"
     ]
    }
   ],
   "source": [
    "# Retrieve the best trial\n",
    "best_trial = study.best_trial\n",
    "print(\"Best trial parameters:\", best_trial.params)\n",
    "print(\"Best trial accuracy:\", best_trial.value)"
   ]
  },
  {
   "cell_type": "code",
   "execution_count": 166,
   "metadata": {},
   "outputs": [],
   "source": [
    "model = NNet(12,1,2,32,0.5)\n",
    "criterion = nn.BCELoss()\n",
    "optimizer = optim.RMSprop(model.parameters(), lr=0.005)"
   ]
  },
  {
   "cell_type": "code",
   "execution_count": 167,
   "metadata": {},
   "outputs": [],
   "source": [
    "from torch.utils.tensorboard import SummaryWriter\n",
    "import datetime\n",
    "\n",
    "log_dir = \"logs/fit/\" + datetime.datetime.now().strftime(\"%Y%m%d-%H%M%S\")\n",
    "\n",
    "writer = SummaryWriter(log_dir)"
   ]
  },
  {
   "cell_type": "code",
   "execution_count": 168,
   "metadata": {},
   "outputs": [
    {
     "name": "stderr",
     "output_type": "stream",
     "text": [
      "/tmp/ipykernel_168870/1333093062.py:4: UserWarning: To copy construct from a tensor, it is recommended to use sourceTensor.clone().detach() or sourceTensor.clone().detach().requires_grad_(True), rather than torch.tensor(sourceTensor).\n",
      "  x_train = tensor(x_train,dtype=torch.float32)\n",
      "/tmp/ipykernel_168870/1333093062.py:6: UserWarning: To copy construct from a tensor, it is recommended to use sourceTensor.clone().detach() or sourceTensor.clone().detach().requires_grad_(True), rather than torch.tensor(sourceTensor).\n",
      "  x_test = tensor(x_test,dtype=torch.float32)\n"
     ]
    }
   ],
   "source": [
    "from torch import tensor\n",
    "\n",
    "\n",
    "x_train = tensor(x_train,dtype=torch.float32)\n",
    "y_train = tensor(y_train,dtype=torch.float32)\n",
    "x_test = tensor(x_test,dtype=torch.float32)\n",
    "y_test = tensor(y_test,dtype=torch.float32)\n"
   ]
  },
  {
   "cell_type": "code",
   "execution_count": 169,
   "metadata": {},
   "outputs": [
    {
     "name": "stdout",
     "output_type": "stream",
     "text": [
      "Epoch 1: Loss = 0.6898\n",
      "Epoch 6: Loss = 0.4428\n",
      "Epoch 11: Loss = 0.4161\n",
      "Epoch 16: Loss = 0.4074\n",
      "Epoch 21: Loss = 0.3921\n",
      "Epoch 26: Loss = 0.3968\n",
      "Epoch 31: Loss = 0.3861\n",
      "Epoch 36: Loss = 0.3675\n",
      "Epoch 41: Loss = 0.3781\n",
      "Early stopping at epoch 45 with best accuracy 83.7500\n"
     ]
    }
   ],
   "source": [
    "epochs = 50\n",
    "patience = 5\n",
    "best_loss = float('inf')\n",
    "\n",
    "for epoch in range(epochs):\n",
    "    optimizer.zero_grad()\n",
    "\n",
    "    output = model(x_train)\n",
    "    loss = criterion(output,y_train)\n",
    "\n",
    "    predictions = output.round()\n",
    "    accuracy = (predictions == y_train).float().mean().item() * 100\n",
    "\n",
    "    loss.backward()\n",
    "    optimizer.step()\n",
    "\n",
    "    writer.add_scalar(\"Loss/train\", loss.item(), epoch)\n",
    "    writer.add_scalar(\"Accuracy/train\",accuracy, epoch)\n",
    "\n",
    "    if loss.item() < best_loss:\n",
    "        best_loss = loss.item()\n",
    "        counter = 0\n",
    "    else:\n",
    "        counter+=1\n",
    "    \n",
    "    if counter >= patience:\n",
    "        print(f\"Early stopping at epoch {epoch+1} with best accuracy {accuracy:.4f}\")\n",
    "        break\n",
    "\n",
    "    if epoch % 5 == 0:\n",
    "        print(f\"Epoch {epoch+1}: Loss = {loss.item():.4f}\")\n",
    "\n",
    "writer.close()"
   ]
  },
  {
   "cell_type": "code",
   "execution_count": 175,
   "metadata": {},
   "outputs": [],
   "source": [
    "y_pred = model(x_test).round()"
   ]
  },
  {
   "cell_type": "code",
   "execution_count": 178,
   "metadata": {},
   "outputs": [
    {
     "name": "stdout",
     "output_type": "stream",
     "text": [
      "0.827\n"
     ]
    }
   ],
   "source": [
    "from sklearn.metrics import accuracy_score\n",
    "\n",
    "print(accuracy_score(y_pred.detach().numpy(),y_test))"
   ]
  },
  {
   "cell_type": "code",
   "execution_count": 179,
   "metadata": {},
   "outputs": [],
   "source": [
    "torch.save(model.state_dict(), \"model_complete.pth\")"
   ]
  },
  {
   "cell_type": "code",
   "execution_count": null,
   "metadata": {},
   "outputs": [],
   "source": []
  }
 ],
 "metadata": {
  "kernelspec": {
   "display_name": "GenAI",
   "language": "python",
   "name": "python3"
  },
  "language_info": {
   "codemirror_mode": {
    "name": "ipython",
    "version": 3
   },
   "file_extension": ".py",
   "mimetype": "text/x-python",
   "name": "python",
   "nbconvert_exporter": "python",
   "pygments_lexer": "ipython3",
   "version": "3.12.7"
  }
 },
 "nbformat": 4,
 "nbformat_minor": 2
}
